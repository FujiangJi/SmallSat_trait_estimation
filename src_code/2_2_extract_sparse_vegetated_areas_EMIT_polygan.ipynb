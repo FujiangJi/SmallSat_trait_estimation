{
 "cells": [
  {
   "cell_type": "code",
   "execution_count": 8,
   "id": "439db8a5",
   "metadata": {},
   "outputs": [],
   "source": [
    "import os\n",
    "from osgeo import gdal,gdalconst\n",
    "import geopandas as gpd\n",
    "import numpy as np \n",
    "import pandas as pd\n",
    "import matplotlib.pyplot as plt\n",
    "import warnings\n",
    "from shapely.geometry import box\n",
    "warnings.filterwarnings(\"ignore\")\n",
    "\n",
    "def read_tif(tif_file):\n",
    "    dataset = gdal.Open(tif_file)\n",
    "    cols = dataset.RasterXSize\n",
    "    rows = dataset.RasterYSize\n",
    "    im_proj = (dataset.GetProjection())\n",
    "    im_Geotrans = (dataset.GetGeoTransform())\n",
    "    im_data = dataset.ReadAsArray(0, 0, cols, rows)\n",
    "    if im_data.ndim == 3:\n",
    "        im_data = np.moveaxis(dataset.ReadAsArray(0, 0, cols, rows), 0, -1)\n",
    "    return im_data, im_Geotrans, im_proj,rows, cols\n",
    "\n",
    "def array_to_geotiff(array, output_path, geo_transform, projection, band_names=None):\n",
    "    rows, cols, num_bands = array.shape\n",
    "    driver = gdal.GetDriverByName('GTiff')\n",
    "    dataset = driver.Create(output_path, cols, rows, num_bands, gdal.GDT_Float32)\n",
    "    \n",
    "    dataset.SetGeoTransform(geo_transform)\n",
    "    dataset.SetProjection(projection)\n",
    "    \n",
    "    for band_num in range(num_bands):\n",
    "        band = dataset.GetRasterBand(band_num + 1)\n",
    "        band.WriteArray(array[:, :, band_num])\n",
    "        band.FlushCache()\n",
    "        \n",
    "        if band_names:\n",
    "            band.SetDescription(band_names[band_num])\n",
    "    dataset = None\n",
    "    band = None\n",
    "    return"
   ]
  },
  {
   "cell_type": "code",
   "execution_count": 7,
   "id": "cef23c1c",
   "metadata": {},
   "outputs": [],
   "source": [
    "points_file = '/130TB_RAID0/fujiang/SmallSat_part2/2_high_resolution_trait_maps/5_extract_training_samples/1_extracted_points.shp'\n",
    "out = \"/130TB_RAID0/fujiang/SmallSat_part2/2_high_resolution_trait_maps/5_extract_training_samples/0_sparse_vagetated_area/0_EMIT_polygan.shp\"\n",
    "\n",
    "points = gpd.read_file(points_file)\n",
    "\n",
    "\n",
    "def point_to_square(point, size=60):\n",
    "    half = size / 2\n",
    "    return box(point.x - half, point.y - (size-11.5), point.x + half, point.y+11.5)\n",
    "\n",
    "gdf_polygons = points.copy()\n",
    "gdf_polygons['geometry'] = points.geometry.apply(point_to_square)\n",
    "gdf_polygons.to_file(out)"
   ]
  },
  {
   "cell_type": "code",
   "execution_count": null,
   "id": "43d85055",
   "metadata": {},
   "outputs": [],
   "source": []
  }
 ],
 "metadata": {
  "kernelspec": {
   "display_name": "Python 3 (ipykernel)",
   "language": "python",
   "name": "python3"
  },
  "language_info": {
   "codemirror_mode": {
    "name": "ipython",
    "version": 3
   },
   "file_extension": ".py",
   "mimetype": "text/x-python",
   "name": "python",
   "nbconvert_exporter": "python",
   "pygments_lexer": "ipython3",
   "version": "3.9.22"
  }
 },
 "nbformat": 4,
 "nbformat_minor": 5
}
